{
 "cells": [
  {
   "cell_type": "markdown",
   "id": "9f8a4584",
   "metadata": {},
   "source": [
    "\n",
    "# SQL + Python\n",
    "\n",
    "(1)Importar las librerías necesarias para crear la conexión y trabajar con Pandas.\n",
    "\n",
    "\n",
    "(2)Crear la conexión a la base de datos Northwind que devuelva un mensaje de error si algo no ocurre cómo debería.\n",
    "\n",
    "\n",
    "(3)Usando \"information_schema\" en la conexión a base de datos, extraer los nombres de las columnas de la tabla \"customers\" de la BBDD \"northwind\".\n",
    "\n",
    "\n",
    "(4)Seleccionar todo de la tabla \"customers\" donde \"city\" sea \"London\" o \"Seattle\". Almacenar los resultados en una variable.\n",
    "\n",
    "\n",
    "(5)Convertir los resultados del ejercicio anterior en un Dataframe (no olvidéis de poner el nombre a las columnas en el orden correcto).\n",
    "\n",
    "\n",
    "(6)Muestra las 10 primeras filas del Dataframe y las 10 últimas.\n",
    "\n",
    "\n",
    "(7)Mostrar 5 filas aleatorias del Dataframe.\n",
    "\n",
    "\n",
    "(8)¿Hay nulos en el Dataframe? El resultado debe verse para cada una de las columnas.\n",
    "\n",
    "\n",
    "(9)Mostrar los principales estadísticos.\n",
    "\n",
    "\n",
    "(10)Mostrar el nombre de las columnas del Dataframe."
   ]
  },
  {
   "cell_type": "code",
   "execution_count": 86,
   "id": "fa201e39",
   "metadata": {},
   "outputs": [],
   "source": [
    "#pip install mysql-connector-python"
   ]
  },
  {
   "cell_type": "code",
   "execution_count": 95,
   "id": "935215ca",
   "metadata": {},
   "outputs": [],
   "source": [
    "# (1) Importar librería para la conexión con MySQL\n",
    "import mysql.connector\n",
    "from mysql.connector import errorcode"
   ]
  },
  {
   "cell_type": "code",
   "execution_count": 97,
   "id": "f240dd06",
   "metadata": {},
   "outputs": [],
   "source": [
    "# (2)\n",
    "# En este código estamos haciendo un try except. \n",
    "# Si recordamos esto nos permitía hacer un manejo de los errores, para evitar que nuestro código se pare. \n",
    "\n",
    "try:\n",
    "  cnx = mysql.connector.connect(user='root', password='AlumnaAdalab',\n",
    "                              host='127.0.0.1',\n",
    "                              database='Northwind')\n",
    "# en caso de que no lo consigas por que hay algún error entonces ...\n",
    "except mysql.connector.Error as err:\n",
    "\n",
    "  # si es un error con la contraseña devuelveme un mensaje de acceso denegado ya que tenemos problemas con la contraseña\n",
    "  if err.errno == errorcode.ER_ACCESS_DENIED_ERROR:\n",
    "    print(\"Something is wrong with your user name or password\")\n",
    "  \n",
    "  # si el error no tiene que ver con la contraseña, puede ser porque la base de datos no exista, devuelveme un mensaje de que la base de datos no existe\n",
    "  elif err.errno == errorcode.ER_BAD_DB_ERROR:\n",
    "    print(\"Database does not exist\")\n",
    "  \n",
    "  # si no es por ninguno de los errores anteriores, printeame cual es el error que estoy teniendo en mi conexión\n",
    "  else:\n",
    "    print(err)"
   ]
  },
  {
   "cell_type": "code",
   "execution_count": null,
   "id": "9bd83c83",
   "metadata": {},
   "outputs": [],
   "source": [
    "# (3) Usando \"information_schema\" en la conexión a base de datos, extraer los nombres de las columnas de la tabla \"customers\" de la BBDD \"northwind\".\n",
    "# creamos el cursor\n",
    "\n",
    "#  En MySQL\n",
    "#  SELECT TABLE_NAME\n",
    "#  FROM INFORMATION_SCHEMA.TABLES\n",
    "\n",
    "# Seleccionando un esquema y una tabla en concreto:\n",
    "\"\"\" SELECT * \n",
    "\tFROM information_schema.columns\n",
    "\tWHERE table_schema = \"tienda\" AND\n",
    "    table_name = \"customers\"; \"\"\""
   ]
  },
  {
   "cell_type": "code",
   "execution_count": 98,
   "id": "de66d23f",
   "metadata": {},
   "outputs": [
    {
     "name": "stdout",
     "output_type": "stream",
     "text": [
      "('alphabetical list of products',)\n",
      "('Categories',)\n",
      "('category sales for 1997',)\n",
      "('current product list',)\n",
      "('customer and suppliers by city',)\n",
      "('CustomerCustomerDemo',)\n",
      "('CustomerDemographics',)\n",
      "('Customers',)\n",
      "('Employees',)\n",
      "('EmployeeTerritories',)\n",
      "('invoices',)\n",
      "('order subtotals',)\n",
      "('orderdetails',)\n",
      "('orderdetails extended',)\n",
      "('Orders',)\n",
      "('orders qry',)\n",
      "('product sales for 1997',)\n",
      "('Products',)\n",
      "('products above average price',)\n",
      "('products by category',)\n",
      "('quarterly orders',)\n",
      "('Region',)\n",
      "('sales by category',)\n",
      "('sales totals by amount',)\n",
      "('Shippers',)\n",
      "('summary of sales by quarter',)\n",
      "('summary of sales by year',)\n",
      "('Suppliers',)\n",
      "('Territories',)\n"
     ]
    }
   ],
   "source": [
    "# (3) Usando \"information_schema\" en la conexión a base de datos, extraer los nombres de las columnas de la tabla \"customers\" de la BBDD \"northwind\".\n",
    "# creamos el cursor\n",
    "mycursor = cnx.cursor()\n",
    "\n",
    "# ejecutamos la query para ver las tablas de la BBDD que hemos indicado en la conexión\n",
    "mycursor.execute(\"SHOW TABLES\")\n",
    "\n",
    "for x in mycursor:\n",
    "  print(x)"
   ]
  },
  {
   "cell_type": "code",
   "execution_count": 99,
   "id": "ee903b85",
   "metadata": {},
   "outputs": [
    {
     "name": "stdout",
     "output_type": "stream",
     "text": [
      "('ALFKI', 'Alfreds Futterkiste', 'Maria Anders', 'Sales Representative', 'Obere Str. 57', 'Berlin', None, '12209', 'Germany', '030-0074321', '030-0076545')\n",
      "('ANATR', 'Ana Trujillo Emparedados y helados', 'Ana Trujillo', 'Owner', 'Avda. de la Constitucin 2222', 'Mxico D.F.', None, '05021', 'Mexico', '(5) 555-4729', '(5) 555-3745')\n",
      "('ANTON', 'Antonio Moreno Taquera', 'Antonio Moreno', 'Owner', 'Mataderos  2312', 'Mxico D.F.', None, '05023', 'Mexico', '(5) 555-3932', None)\n",
      "('AROUT', 'Around the Horn', 'Thomas Hardy', 'Sales Representative', '120 Hanover Sq.', 'London', None, 'WA1 1DP', 'UK', '(171) 555-7788', '(171) 555-6750')\n",
      "('BERGS', 'Berglunds snabbkp', 'Christina Berglund', 'Order Administrator', 'Berguvsvgen  8', 'Lule', None, 'S-958 22', 'Sweden', '0921-12 34 65', '0921-12 34 67')\n",
      "('BLAUS', 'Blauer See Delikatessen', 'Hanna Moos', 'Sales Representative', 'Forsterstr. 57', 'Mannheim', None, '68306', 'Germany', '0621-08460', '0621-08924')\n",
      "('BLONP', 'Blondesddsl pre et fils', 'Frdrique Citeaux', 'Marketing Manager', '24, place Klber', 'Strasbourg', None, '67000', 'France', '88.60.15.31', '88.60.15.32')\n",
      "('BOLID', 'Blido Comidas preparadas', 'Martn Sommer', 'Owner', 'C/ Araquil, 67', 'Madrid', None, '28023', 'Spain', '(91) 555 22 82', '(91) 555 91 99')\n",
      "('BONAP', \"Bon app'\", 'Laurence Lebihan', 'Owner', '12, rue des Bouchers', 'Marseille', None, '13008', 'France', '91.24.45.40', '91.24.45.41')\n",
      "('BOTTM', 'Bottom-Dollar Markets', 'Elizabeth Lincoln', 'Accounting Manager', '23 Tsawassen Blvd.', 'Tsawassen', 'BC', 'T2F 8M4', 'Canada', '(604) 555-4729', '(604) 555-3745')\n",
      "('BSBEV', \"B's Beverages\", 'Victoria Ashworth', 'Sales Representative', 'Fauntleroy Circus', 'London', None, 'EC2 5NT', 'UK', '(171) 555-1212', None)\n",
      "('CACTU', 'Cactus Comidas para llevar', 'Patricio Simpson', 'Sales Agent', 'Cerrito 333', 'Buenos Aires', None, '1010', 'Argentina', '(1) 135-5555', '(1) 135-4892')\n",
      "('CENTC', 'Centro comercial Moctezuma', 'Francisco Chang', 'Marketing Manager', 'Sierras de Granada 9993', 'Mxico D.F.', None, '05022', 'Mexico', '(5) 555-3392', '(5) 555-7293')\n",
      "('CHOPS', 'Chop-suey Chinese', 'Yang Wang', 'Owner', 'Hauptstr. 29', 'Bern', None, '3012', 'Switzerland', '0452-076545', None)\n",
      "('COMMI', 'Comrcio Mineiro', 'Pedro Afonso', 'Sales Associate', 'Av. dos Lusadas, 23', 'Sao Paulo', 'SP', '05432-043', 'Brazil', '(11) 555-7647', None)\n",
      "('CONSH', 'Consolidated Holdings', 'Elizabeth Brown', 'Sales Representative', 'Berkeley Gardens 12  Brewery', 'London', None, 'WX1 6LT', 'UK', '(171) 555-2282', '(171) 555-9199')\n",
      "('DRACD', 'Drachenblut Delikatessen', 'Sven Ottlieb', 'Order Administrator', 'Walserweg 21', 'Aachen', None, '52066', 'Germany', '0241-039123', '0241-059428')\n",
      "('DUMON', 'Du monde entier', 'Janine Labrune', 'Owner', '67, rue des Cinquante Otages', 'Nantes', None, '44000', 'France', '40.67.88.88', '40.67.89.89')\n",
      "('EASTC', 'Eastern Connection', 'Ann Devon', 'Sales Agent', '35 King George', 'London', None, 'WX3 6FW', 'UK', '(171) 555-0297', '(171) 555-3373')\n",
      "('ERNSH', 'Ernst Handel', 'Roland Mendel', 'Sales Manager', 'Kirchgasse 6', 'Graz', None, '8010', 'Austria', '7675-3425', '7675-3426')\n",
      "('FAMIA', 'Familia Arquibaldo', 'Aria Cruz', 'Marketing Assistant', 'Rua Ors, 92', 'Sao Paulo', 'SP', '05442-030', 'Brazil', '(11) 555-9857', None)\n",
      "('FISSA', 'FISSA Fabrica Inter. Salchichas S.A.', 'Diego Roel', 'Accounting Manager', 'C/ Moralzarzal, 86', 'Madrid', None, '28034', 'Spain', '(91) 555 94 44', '(91) 555 55 93')\n",
      "('FOLIG', 'Folies gourmandes', 'Martine Ranc', 'Assistant Sales Agent', '184, chausse de Tournai', 'Lille', None, '59000', 'France', '20.16.10.16', '20.16.10.17')\n",
      "('FOLKO', 'Folk och f HB', 'Maria Larsson', 'Owner', 'kergatan 24', 'Brcke', None, 'S-844 67', 'Sweden', '0695-34 67 21', None)\n",
      "('FRANK', 'Frankenversand', 'Peter Franken', 'Marketing Manager', 'Berliner Platz 43', 'Mnchen', None, '80805', 'Germany', '089-0877310', '089-0877451')\n",
      "('FRANR', 'France restauration', 'Carine Schmitt', 'Marketing Manager', '54, rue Royale', 'Nantes', None, '44000', 'France', '40.32.21.21', '40.32.21.20')\n",
      "('FRANS', 'Franchi S.p.A.', 'Paolo Accorti', 'Sales Representative', 'Via Monte Bianco 34', 'Torino', None, '10100', 'Italy', '011-4988260', '011-4988261')\n",
      "('FURIB', 'Furia Bacalhau e Frutos do Mar', 'Lino Rodriguez', 'Sales Manager', 'Jardim das rosas n. 32', 'Lisboa', None, '1675', 'Portugal', '(1) 354-2534', '(1) 354-2535')\n",
      "('GALED', 'Galera del gastrnomo', 'Eduardo Saavedra', 'Marketing Manager', 'Rambla de Catalua, 23', 'Barcelona', None, '08022', 'Spain', '(93) 203 4560', '(93) 203 4561')\n",
      "('GODOS', 'Godos Cocina Tpica', 'Jos Pedro Freyre', 'Sales Manager', 'C/ Romero, 33', 'Sevilla', None, '41101', 'Spain', '(95) 555 82 82', None)\n",
      "('GOURL', 'Gourmet Lanchonetes', 'Andr Fonseca', 'Sales Associate', 'Av. Brasil, 442', 'Campinas', 'SP', '04876-786', 'Brazil', '(11) 555-9482', None)\n",
      "('GREAL', 'Great Lakes Food Market', 'Howard Snyder', 'Marketing Manager', '2732 Baker Blvd.', 'Eugene', 'OR', '97403', 'USA', '(503) 555-7555', None)\n",
      "('GROSR', 'GROSELLA-Restaurante', 'Manuel Pereira', 'Owner', '5 Ave. Los Palos Grandes', 'Caracas', 'DF', '1081', 'Venezuela', '(2) 283-2951', '(2) 283-3397')\n",
      "('HANAR', 'Hanari Carnes', 'Mario Pontes', 'Accounting Manager', 'Rua do Pao, 67', 'Rio de Janeiro', 'RJ', '05454-876', 'Brazil', '(21) 555-0091', '(21) 555-8765')\n",
      "('HILAA', 'HILARION-Abastos', 'Carlos Hernndez', 'Sales Representative', 'Carrera 22 con Ave. Carlos Soublette #8-35', 'San Cristbal', 'Tchira', '5022', 'Venezuela', '(5) 555-1340', '(5) 555-1948')\n",
      "('HUNGC', 'Hungry Coyote Import Store', 'Yoshi Latimer', 'Sales Representative', 'City Center Plaza 516 Main St.', 'Elgin', 'OR', '97827', 'USA', '(503) 555-6874', '(503) 555-2376')\n",
      "('HUNGO', 'Hungry Owl All-Night Grocers', 'Patricia McKenna', 'Sales Associate', '8 Johnstown Road', 'Cork', 'Co. Cork', None, 'Ireland', '2967 542', '2967 3333')\n",
      "('ISLAT', 'Island Trading', 'Helen Bennett', 'Marketing Manager', 'Garden House Crowther Way', 'Cowes', 'Isle of Wight', 'PO31 7PJ', 'UK', '(198) 555-8888', None)\n",
      "('KOENE', 'Kniglich Essen', 'Philip Cramer', 'Sales Associate', 'Maubelstr. 90', 'Brandenburg', None, '14776', 'Germany', '0555-09876', None)\n",
      "('LACOR', \"La corne d'abondance\", 'Daniel Tonini', 'Sales Representative', \"67, avenue de l'Europe\", 'Versailles', None, '78000', 'France', '30.59.84.10', '30.59.85.11')\n",
      "('LAMAI', \"La maison d'Asie\", 'Annette Roulet', 'Sales Manager', '1 rue Alsace-Lorraine', 'Toulouse', None, '31000', 'France', '61.77.61.10', '61.77.61.11')\n",
      "('LAUGB', 'Laughing Bacchus Wine Cellars', 'Yoshi Tannamuri', 'Marketing Assistant', '1900 Oak St.', 'Vancouver', 'BC', 'V3F 2K1', 'Canada', '(604) 555-3392', '(604) 555-7293')\n",
      "('LAZYK', 'Lazy K Kountry Store', 'John Steel', 'Marketing Manager', '12 Orchestra Terrace', 'Walla Walla', 'WA', '99362', 'USA', '(509) 555-7969', '(509) 555-6221')\n",
      "('LEHMS', 'Lehmanns Marktstand', 'Renate Messner', 'Sales Representative', 'Magazinweg 7', 'Frankfurt a.M.', None, '60528', 'Germany', '069-0245984', '069-0245874')\n",
      "('LETSS', \"Let's Stop N Shop\", 'Jaime Yorres', 'Owner', '87 Polk St. Suite 5', 'San Francisco', 'CA', '94117', 'USA', '(415) 555-5938', None)\n",
      "('LILAS', 'LILA-Supermercado', 'Carlos Gonzlez', 'Accounting Manager', 'Carrera 52 con Ave. Bolvar #65-98 Llano Largo', 'Barquisimeto', 'Lara', '3508', 'Venezuela', '(9) 331-6954', '(9) 331-7256')\n",
      "('LINOD', 'LINO-Delicateses', 'Felipe Izquierdo', 'Owner', 'Ave. 5 de Mayo Porlamar', 'I. de Margarita', 'Nueva Esparta', '4980', 'Venezuela', '(8) 34-56-12', '(8) 34-93-93')\n",
      "('LONEP', 'Lonesome Pine Restaurant', 'Fran Wilson', 'Sales Manager', '89 Chiaroscuro Rd.', 'Portland', 'OR', '97219', 'USA', '(503) 555-9573', '(503) 555-9646')\n",
      "('MAGAA', 'Magazzini Alimentari Riuniti', 'Giovanni Rovelli', 'Marketing Manager', 'Via Ludovico il Moro 22', 'Bergamo', None, '24100', 'Italy', '035-640230', '035-640231')\n",
      "('MAISD', 'Maison Dewey', 'Catherine Dewey', 'Sales Agent', 'Rue Joseph-Bens 532', 'Bruxelles', None, 'B-1180', 'Belgium', '(02) 201 24 67', '(02) 201 24 68')\n",
      "('MEREP', 'Mre Paillarde', 'Jean Fresnire', 'Marketing Assistant', '43 rue St. Laurent', 'Montral', 'Qubec', 'H1J 1C3', 'Canada', '(514) 555-8054', '(514) 555-8055')\n",
      "('MORGK', 'Morgenstern Gesundkost', 'Alexander Feuer', 'Marketing Assistant', 'Heerstr. 22', 'Leipzig', None, '04179', 'Germany', '0342-023176', None)\n",
      "('NORTS', 'North/South', 'Simon Crowther', 'Sales Associate', 'South House 300 Queensbridge', 'London', None, 'SW7 1RZ', 'UK', '(171) 555-7733', '(171) 555-2530')\n",
      "('OCEAN', 'Ocano Atlntico Ltda.', 'Yvonne Moncada', 'Sales Agent', 'Ing. Gustavo Moncada 8585 Piso 20-A', 'Buenos Aires', None, '1010', 'Argentina', '(1) 135-5333', '(1) 135-5535')\n",
      "('OLDWO', 'Old World Delicatessen', 'Rene Phillips', 'Sales Representative', '2743 Bering St.', 'Anchorage', 'AK', '99508', 'USA', '(907) 555-7584', '(907) 555-2880')\n",
      "('OTTIK', 'Ottilies Kseladen', 'Henriette Pfalzheim', 'Owner', 'Mehrheimerstr. 369', 'Kln', None, '50739', 'Germany', '0221-0644327', '0221-0765721')\n",
      "('PARIS', 'Paris spcialits', 'Marie Bertrand', 'Owner', '265, boulevard Charonne', 'Paris', None, '75012', 'France', '(1) 42.34.22.66', '(1) 42.34.22.77')\n",
      "('PERIC', 'Pericles Comidas clsicas', 'Guillermo Fernndez', 'Sales Representative', 'Calle Dr. Jorge Cash 321', 'Mxico D.F.', None, '05033', 'Mexico', '(5) 552-3745', '(5) 545-3745')\n",
      "('PICCO', 'Piccolo und mehr', 'Georg Pipps', 'Sales Manager', 'Geislweg 14', 'Salzburg', None, '5020', 'Austria', '6562-9722', '6562-9723')\n",
      "('PRINI', 'Princesa Isabel Vinhos', 'Isabel de Castro', 'Sales Representative', 'Estrada da sade n. 58', 'Lisboa', None, '1756', 'Portugal', '(1) 356-5634', None)\n",
      "('QUEDE', 'Que Delcia', 'Bernardo Batista', 'Accounting Manager', 'Rua da Panificadora, 12', 'Rio de Janeiro', 'RJ', '02389-673', 'Brazil', '(21) 555-4252', '(21) 555-4545')\n",
      "('QUEEN', 'Queen Cozinha', 'Lcia Carvalho', 'Marketing Assistant', 'Alameda dos Canrios, 891', 'Sao Paulo', 'SP', '05487-020', 'Brazil', '(11) 555-1189', None)\n",
      "('QUICK', 'QUICK-Stop', 'Horst Kloss', 'Accounting Manager', 'Taucherstrae 10', 'Cunewalde', None, '01307', 'Germany', '0372-035188', None)\n",
      "('RANCH', 'Rancho grande', 'Sergio Gutirrez', 'Sales Representative', 'Av. del Libertador 900', 'Buenos Aires', None, '1010', 'Argentina', '(1) 123-5555', '(1) 123-5556')\n",
      "('RATTC', 'Rattlesnake Canyon Grocery', 'Paula Wilson', 'Assistant Sales Representative', '2817 Milton Dr.', 'Albuquerque', 'NM', '87110', 'USA', '(505) 555-5939', '(505) 555-3620')\n",
      "('REGGC', 'Reggiani Caseifici', 'Maurizio Moroni', 'Sales Associate', 'Strada Provinciale 124', 'Reggio Emilia', None, '42100', 'Italy', '0522-556721', '0522-556722')\n",
      "('RICAR', 'Ricardo Adocicados', 'Janete Limeira', 'Assistant Sales Agent', 'Av. Copacabana, 267', 'Rio de Janeiro', 'RJ', '02389-890', 'Brazil', '(21) 555-3412', None)\n",
      "('RICSU', 'Richter Supermarkt', 'Michael Holz', 'Sales Manager', 'Grenzacherweg 237', 'Genve', None, '1203', 'Switzerland', '0897-034214', None)\n",
      "('ROMEY', 'Romero y tomillo', 'Alejandra Camino', 'Accounting Manager', 'Gran Va, 1', 'Madrid', None, '28001', 'Spain', '(91) 745 6200', '(91) 745 6210')\n",
      "('SANTG', 'Sant Gourmet', 'Jonas Bergulfsen', 'Owner', 'Erling Skakkes gate 78', 'Stavern', None, '4110', 'Norway', '07-98 92 35', '07-98 92 47')\n",
      "('SAVEA', 'Save-a-lot Markets', 'Jose Pavarotti', 'Sales Representative', '187 Suffolk Ln.', 'Boise', 'ID', '83720', 'USA', '(208) 555-8097', None)\n",
      "('SEVES', 'Seven Seas Imports', 'Hari Kumar', 'Sales Manager', '90 Wadhurst Rd.', 'London', None, 'OX15 4NB', 'UK', '(171) 555-1717', '(171) 555-5646')\n",
      "('SIMOB', 'Simons bistro', 'Jytte Petersen', 'Owner', 'Vinbltet 34', 'Kobenhavn', None, '1734', 'Denmark', '31 12 34 56', '31 13 35 57')\n",
      "('SPECD', 'Spcialits du monde', 'Dominique Perrier', 'Marketing Manager', '25, rue Lauriston', 'Paris', None, '75016', 'France', '(1) 47.55.60.10', '(1) 47.55.60.20')\n",
      "('SPLIR', 'Split Rail Beer & Ale', 'Art Braunschweiger', 'Sales Manager', 'P.O. Box 555', 'Lander', 'WY', '82520', 'USA', '(307) 555-4680', '(307) 555-6525')\n",
      "('SUPRD', 'Suprmes dlices', 'Pascale Cartrain', 'Accounting Manager', 'Boulevard Tirou, 255', 'Charleroi', None, 'B-6000', 'Belgium', '(071) 23 67 22 20', '(071) 23 67 22 21')\n",
      "('THEBI', 'The Big Cheese', 'Liz Nixon', 'Marketing Manager', '89 Jefferson Way Suite 2', 'Portland', 'OR', '97201', 'USA', '(503) 555-3612', None)\n",
      "('THECR', 'The Cracker Box', 'Liu Wong', 'Marketing Assistant', '55 Grizzly Peak Rd.', 'Butte', 'MT', '59801', 'USA', '(406) 555-5834', '(406) 555-8083')\n",
      "('TOMSP', 'Toms Spezialitten', 'Karin Josephs', 'Marketing Manager', 'Luisenstr. 48', 'Mnster', None, '44087', 'Germany', '0251-031259', '0251-035695')\n",
      "('TORTU', 'Tortuga Restaurante', 'Miguel Angel Paolino', 'Owner', 'Avda. Azteca 123', 'Mxico D.F.', None, '05033', 'Mexico', '(5) 555-2933', None)\n",
      "('TRADH', 'Tradio Hipermercados', 'Anabela Domingues', 'Sales Representative', 'Av. Ins de Castro, 414', 'Sao Paulo', 'SP', '05634-030', 'Brazil', '(11) 555-2167', '(11) 555-2168')\n",
      "('TRAIH', \"Trail's Head Gourmet Provisioners\", 'Helvetius Nagy', 'Sales Associate', '722 DaVinci Blvd.', 'Kirkland', 'WA', '98034', 'USA', '(206) 555-8257', '(206) 555-2174')\n",
      "('VAFFE', 'Vaffeljernet', 'Palle Ibsen', 'Sales Manager', 'Smagsloget 45', 'rhus', None, '8200', 'Denmark', '86 21 32 43', '86 22 33 44')\n",
      "('Val2 ', 'IT', 'Val2', 'IT', None, None, None, None, None, None, None)\n",
      "('VALON', 'IT', 'Valon Hoti', 'IT', None, None, None, None, None, None, None)\n",
      "('VICTE', 'Victuailles en stock', 'Mary Saveley', 'Sales Agent', '2, rue du Commerce', 'Lyon', None, '69004', 'France', '78.32.54.86', '78.32.54.87')\n",
      "('VINET', 'Vins et alcools Chevalier', 'Paul Henriot', 'Accounting Manager', \"59 rue de l'Abbaye\", 'Reims', None, '51100', 'France', '26.47.15.10', '26.47.15.11')\n",
      "('WANDK', 'Die Wandernde Kuh', 'Rita Mller', 'Sales Representative', 'Adenauerallee 900', 'Stuttgart', None, '70563', 'Germany', '0711-020361', '0711-035428')\n",
      "('WARTH', 'Wartian Herkku', 'Pirkko Koskitalo', 'Accounting Manager', 'Torikatu 38', 'Oulu', None, '90110', 'Finland', '981-443655', '981-443655')\n",
      "('WELLI', 'Wellington Importadora', 'Paula Parente', 'Sales Manager', 'Rua do Mercado, 12', 'Resende', 'SP', '08737-363', 'Brazil', '(14) 555-8122', None)\n",
      "('WHITC', 'White Clover Markets', 'Karl Jablonski', 'Owner', '305 - 14th Ave. S. Suite 3B', 'Seattle', 'WA', '98128', 'USA', '(206) 555-4112', '(206) 555-4115')\n",
      "('WILMK', 'Wilman Kala', 'Matti Karttunen', 'Owner/Marketing Assistant', 'Keskuskatu 45', 'Helsinki', None, '21240', 'Finland', '90-224 8858', '90-224 8858')\n",
      "('WOLZA', 'Wolski  Zajazd', 'Zbyszek Piestrzeniewicz', 'Owner', 'ul. Filtrowa 68', 'Warszawa', None, '01-012', 'Poland', '(26) 642-7012', '(26) 642-7012')\n"
     ]
    }
   ],
   "source": [
    "# (4) Seleccionar todo de la tabla \"customers\" donde \"city\" sea \"London\" o \"Seattle\". \n",
    "# Almacenar los resultados en una variable.\n",
    "\n",
    "mycursor = cnx.cursor()\n",
    "mycursor.execute(\"SELECT * FROM customers\")\n",
    "for x in mycursor:\n",
    "  print(x)\n"
   ]
  },
  {
   "cell_type": "code",
   "execution_count": 100,
   "id": "3958e9ab",
   "metadata": {},
   "outputs": [],
   "source": [
    "# primero tenemos que importar la librería\n",
    "\n",
    "import pandas as pd  # El \"as\" es como darle un alias a la biblioteca que voy a usar...te recuerda al AS de las query de SQL?"
   ]
  },
  {
   "cell_type": "code",
   "execution_count": 101,
   "id": "99372e28",
   "metadata": {},
   "outputs": [],
   "source": [
    "mycursor = cnx.cursor()\n",
    "\n",
    "# ejecutamos nuestra query\n",
    "mycursor.execute(\"SELECT * FROM customers\")\n",
    "\n",
    "# le decimos que nos devuelva todos los resultados y los almacenamos en una variable llamada myresult\n",
    "myresult = mycursor.fetchall()\n"
   ]
  },
  {
   "cell_type": "code",
   "execution_count": 102,
   "id": "a13823c4",
   "metadata": {},
   "outputs": [
    {
     "name": "stdout",
     "output_type": "stream",
     "text": [
      "('alphabetical list of products',)\n",
      "('Categories',)\n",
      "('category sales for 1997',)\n",
      "('current product list',)\n",
      "('customer and suppliers by city',)\n",
      "('CustomerCustomerDemo',)\n",
      "('CustomerDemographics',)\n",
      "('Customers',)\n",
      "('Employees',)\n",
      "('EmployeeTerritories',)\n",
      "('invoices',)\n",
      "('order subtotals',)\n",
      "('orderdetails',)\n",
      "('orderdetails extended',)\n",
      "('Orders',)\n",
      "('orders qry',)\n",
      "('product sales for 1997',)\n",
      "('Products',)\n",
      "('products above average price',)\n",
      "('products by category',)\n",
      "('quarterly orders',)\n",
      "('Region',)\n",
      "('sales by category',)\n",
      "('sales totals by amount',)\n",
      "('Shippers',)\n",
      "('summary of sales by quarter',)\n",
      "('summary of sales by year',)\n",
      "('Suppliers',)\n",
      "('Territories',)\n"
     ]
    }
   ],
   "source": [
    "mycursor.execute(\"SHOW TABLES\")\n",
    "for table in mycursor:\n",
    "    print(table)"
   ]
  },
  {
   "cell_type": "code",
   "execution_count": 106,
   "id": "f4ba076c",
   "metadata": {},
   "outputs": [
    {
     "name": "stdout",
     "output_type": "stream",
     "text": [
      "('AROUT', 'Around the Horn', 'Thomas Hardy', 'Sales Representative', '120 Hanover Sq.', 'London', None, 'WA1 1DP', 'UK', '(171) 555-7788', '(171) 555-6750')\n",
      "('BSBEV', \"B's Beverages\", 'Victoria Ashworth', 'Sales Representative', 'Fauntleroy Circus', 'London', None, 'EC2 5NT', 'UK', '(171) 555-1212', None)\n",
      "('CONSH', 'Consolidated Holdings', 'Elizabeth Brown', 'Sales Representative', 'Berkeley Gardens 12  Brewery', 'London', None, 'WX1 6LT', 'UK', '(171) 555-2282', '(171) 555-9199')\n",
      "('EASTC', 'Eastern Connection', 'Ann Devon', 'Sales Agent', '35 King George', 'London', None, 'WX3 6FW', 'UK', '(171) 555-0297', '(171) 555-3373')\n",
      "('NORTS', 'North/South', 'Simon Crowther', 'Sales Associate', 'South House 300 Queensbridge', 'London', None, 'SW7 1RZ', 'UK', '(171) 555-7733', '(171) 555-2530')\n",
      "('SEVES', 'Seven Seas Imports', 'Hari Kumar', 'Sales Manager', '90 Wadhurst Rd.', 'London', None, 'OX15 4NB', 'UK', '(171) 555-1717', '(171) 555-5646')\n"
     ]
    }
   ],
   "source": [
    "mycursor = cnx.cursor()\n",
    "mycursor.execute(\"SELECT * FROM customers WHERE City = 'London' OR City = 'Seatle'\")\n",
    "for x in mycursor:\n",
    "  print(x)"
   ]
  },
  {
   "cell_type": "code",
   "execution_count": 107,
   "id": "a8f4f0e0",
   "metadata": {},
   "outputs": [
    {
     "name": "stdout",
     "output_type": "stream",
     "text": [
      "('AROUT', 'Around the Horn', 'Thomas Hardy', 'Sales Representative', '120 Hanover Sq.', 'London', None, 'WA1 1DP', 'UK', '(171) 555-7788', '(171) 555-6750')\n",
      "('BSBEV', \"B's Beverages\", 'Victoria Ashworth', 'Sales Representative', 'Fauntleroy Circus', 'London', None, 'EC2 5NT', 'UK', '(171) 555-1212', None)\n",
      "('CONSH', 'Consolidated Holdings', 'Elizabeth Brown', 'Sales Representative', 'Berkeley Gardens 12  Brewery', 'London', None, 'WX1 6LT', 'UK', '(171) 555-2282', '(171) 555-9199')\n",
      "('EASTC', 'Eastern Connection', 'Ann Devon', 'Sales Agent', '35 King George', 'London', None, 'WX3 6FW', 'UK', '(171) 555-0297', '(171) 555-3373')\n",
      "('NORTS', 'North/South', 'Simon Crowther', 'Sales Associate', 'South House 300 Queensbridge', 'London', None, 'SW7 1RZ', 'UK', '(171) 555-7733', '(171) 555-2530')\n",
      "('SEVES', 'Seven Seas Imports', 'Hari Kumar', 'Sales Manager', '90 Wadhurst Rd.', 'London', None, 'OX15 4NB', 'UK', '(171) 555-1717', '(171) 555-5646')\n",
      "('WHITC', 'White Clover Markets', 'Karl Jablonski', 'Owner', '305 - 14th Ave. S. Suite 3B', 'Seattle', 'WA', '98128', 'USA', '(206) 555-4112', '(206) 555-4115')\n"
     ]
    }
   ],
   "source": [
    "mycursor = cnx.cursor()\n",
    "mycursor.execute(\"SELECT * FROM customers WHERE City IN ('London', 'Seattle')\")\n",
    "for x in mycursor:\n",
    "  print(x)"
   ]
  },
  {
   "cell_type": "code",
   "execution_count": 111,
   "id": "17f35ee4",
   "metadata": {},
   "outputs": [
    {
     "name": "stdout",
     "output_type": "stream",
     "text": [
      "Empty DataFrame\n",
      "Columns: [(WHITC, White Clover Markets, Karl Jablonski, Owner, 305 - 14th Ave. S. Suite 3B, Seattle, WA, 98128, USA, (206) 555-4112, (206) 555-4115)]\n",
      "Index: []\n"
     ]
    }
   ],
   "source": [
    "df = pd.DataFrame(mycursor, columns = [x])\n",
    "print(df)"
   ]
  },
  {
   "cell_type": "code",
   "execution_count": null,
   "id": "9eb8534e",
   "metadata": {},
   "outputs": [
    {
     "name": "stdout",
     "output_type": "stream",
     "text": [
      "   CustomerID                         CompanyName              ContactName  \\\n",
      "0       ALFKI                 Alfreds Futterkiste             Maria Anders   \n",
      "1       ANATR  Ana Trujillo Emparedados y helados             Ana Trujillo   \n",
      "2       ANTON              Antonio Moreno Taquera           Antonio Moreno   \n",
      "3       AROUT                     Around the Horn             Thomas Hardy   \n",
      "4       BERGS                   Berglunds snabbkp       Christina Berglund   \n",
      "..        ...                                 ...                      ...   \n",
      "88      WARTH                      Wartian Herkku         Pirkko Koskitalo   \n",
      "89      WELLI              Wellington Importadora            Paula Parente   \n",
      "90      WHITC                White Clover Markets           Karl Jablonski   \n",
      "91      WILMK                         Wilman Kala          Matti Karttunen   \n",
      "92      WOLZA                      Wolski  Zajazd  Zbyszek Piestrzeniewicz   \n",
      "\n",
      "                 ContactTitle                       Address        City  \\\n",
      "0        Sales Representative                 Obere Str. 57      Berlin   \n",
      "1                       Owner  Avda. de la Constitucin 2222  Mxico D.F.   \n",
      "2                       Owner               Mataderos  2312  Mxico D.F.   \n",
      "3        Sales Representative               120 Hanover Sq.      London   \n",
      "4         Order Administrator                Berguvsvgen  8        Lule   \n",
      "..                        ...                           ...         ...   \n",
      "88         Accounting Manager                   Torikatu 38        Oulu   \n",
      "89              Sales Manager            Rua do Mercado, 12     Resende   \n",
      "90                      Owner   305 - 14th Ave. S. Suite 3B     Seattle   \n",
      "91  Owner/Marketing Assistant                 Keskuskatu 45    Helsinki   \n",
      "92                      Owner               ul. Filtrowa 68    Warszawa   \n",
      "\n",
      "   Region   PostCode  Country           Phone             Fax  \n",
      "0    None      12209  Germany     030-0074321     030-0076545  \n",
      "1    None      05021   Mexico    (5) 555-4729    (5) 555-3745  \n",
      "2    None      05023   Mexico    (5) 555-3932            None  \n",
      "3    None    WA1 1DP       UK  (171) 555-7788  (171) 555-6750  \n",
      "4    None   S-958 22   Sweden   0921-12 34 65   0921-12 34 67  \n",
      "..    ...        ...      ...             ...             ...  \n",
      "88   None      90110  Finland      981-443655      981-443655  \n",
      "89     SP  08737-363   Brazil   (14) 555-8122            None  \n",
      "90     WA      98128      USA  (206) 555-4112  (206) 555-4115  \n",
      "91   None      21240  Finland     90-224 8858     90-224 8858  \n",
      "92   None     01-012   Poland   (26) 642-7012   (26) 642-7012  \n",
      "\n",
      "[93 rows x 11 columns]\n"
     ]
    }
   ],
   "source": [
    "df = pd.DataFrame(myresult, columns = ['CustomerID', 'CompanyName', 'ContactName','ContactTitle','Address','City','Region','PostCode', 'Country', 'Phone', 'Fax'])\n",
    "print(df)"
   ]
  },
  {
   "cell_type": "code",
   "execution_count": null,
   "id": "8831351c",
   "metadata": {},
   "outputs": [
    {
     "data": {
      "text/html": [
       "<div>\n",
       "<style scoped>\n",
       "    .dataframe tbody tr th:only-of-type {\n",
       "        vertical-align: middle;\n",
       "    }\n",
       "\n",
       "    .dataframe tbody tr th {\n",
       "        vertical-align: top;\n",
       "    }\n",
       "\n",
       "    .dataframe thead th {\n",
       "        text-align: right;\n",
       "    }\n",
       "</style>\n",
       "<table border=\"1\" class=\"dataframe\">\n",
       "  <thead>\n",
       "    <tr style=\"text-align: right;\">\n",
       "      <th></th>\n",
       "      <th>CustomerID</th>\n",
       "      <th>CompanyName</th>\n",
       "      <th>ContactName</th>\n",
       "      <th>ContactTitle</th>\n",
       "      <th>Address</th>\n",
       "      <th>City</th>\n",
       "      <th>Region</th>\n",
       "      <th>PostCode</th>\n",
       "      <th>Country</th>\n",
       "      <th>Phone</th>\n",
       "      <th>Fax</th>\n",
       "    </tr>\n",
       "  </thead>\n",
       "  <tbody>\n",
       "    <tr>\n",
       "      <th>0</th>\n",
       "      <td>ALFKI</td>\n",
       "      <td>Alfreds Futterkiste</td>\n",
       "      <td>Maria Anders</td>\n",
       "      <td>Sales Representative</td>\n",
       "      <td>Obere Str. 57</td>\n",
       "      <td>Berlin</td>\n",
       "      <td>None</td>\n",
       "      <td>12209</td>\n",
       "      <td>Germany</td>\n",
       "      <td>030-0074321</td>\n",
       "      <td>030-0076545</td>\n",
       "    </tr>\n",
       "    <tr>\n",
       "      <th>1</th>\n",
       "      <td>ANATR</td>\n",
       "      <td>Ana Trujillo Emparedados y helados</td>\n",
       "      <td>Ana Trujillo</td>\n",
       "      <td>Owner</td>\n",
       "      <td>Avda. de la Constitucin 2222</td>\n",
       "      <td>Mxico D.F.</td>\n",
       "      <td>None</td>\n",
       "      <td>05021</td>\n",
       "      <td>Mexico</td>\n",
       "      <td>(5) 555-4729</td>\n",
       "      <td>(5) 555-3745</td>\n",
       "    </tr>\n",
       "    <tr>\n",
       "      <th>2</th>\n",
       "      <td>ANTON</td>\n",
       "      <td>Antonio Moreno Taquera</td>\n",
       "      <td>Antonio Moreno</td>\n",
       "      <td>Owner</td>\n",
       "      <td>Mataderos  2312</td>\n",
       "      <td>Mxico D.F.</td>\n",
       "      <td>None</td>\n",
       "      <td>05023</td>\n",
       "      <td>Mexico</td>\n",
       "      <td>(5) 555-3932</td>\n",
       "      <td>None</td>\n",
       "    </tr>\n",
       "    <tr>\n",
       "      <th>3</th>\n",
       "      <td>AROUT</td>\n",
       "      <td>Around the Horn</td>\n",
       "      <td>Thomas Hardy</td>\n",
       "      <td>Sales Representative</td>\n",
       "      <td>120 Hanover Sq.</td>\n",
       "      <td>London</td>\n",
       "      <td>None</td>\n",
       "      <td>WA1 1DP</td>\n",
       "      <td>UK</td>\n",
       "      <td>(171) 555-7788</td>\n",
       "      <td>(171) 555-6750</td>\n",
       "    </tr>\n",
       "    <tr>\n",
       "      <th>4</th>\n",
       "      <td>BERGS</td>\n",
       "      <td>Berglunds snabbkp</td>\n",
       "      <td>Christina Berglund</td>\n",
       "      <td>Order Administrator</td>\n",
       "      <td>Berguvsvgen  8</td>\n",
       "      <td>Lule</td>\n",
       "      <td>None</td>\n",
       "      <td>S-958 22</td>\n",
       "      <td>Sweden</td>\n",
       "      <td>0921-12 34 65</td>\n",
       "      <td>0921-12 34 67</td>\n",
       "    </tr>\n",
       "  </tbody>\n",
       "</table>\n",
       "</div>"
      ],
      "text/plain": [
       "  CustomerID                         CompanyName         ContactName  \\\n",
       "0      ALFKI                 Alfreds Futterkiste        Maria Anders   \n",
       "1      ANATR  Ana Trujillo Emparedados y helados        Ana Trujillo   \n",
       "2      ANTON              Antonio Moreno Taquera      Antonio Moreno   \n",
       "3      AROUT                     Around the Horn        Thomas Hardy   \n",
       "4      BERGS                   Berglunds snabbkp  Christina Berglund   \n",
       "\n",
       "           ContactTitle                       Address        City Region  \\\n",
       "0  Sales Representative                 Obere Str. 57      Berlin   None   \n",
       "1                 Owner  Avda. de la Constitucin 2222  Mxico D.F.   None   \n",
       "2                 Owner               Mataderos  2312  Mxico D.F.   None   \n",
       "3  Sales Representative               120 Hanover Sq.      London   None   \n",
       "4   Order Administrator                Berguvsvgen  8        Lule   None   \n",
       "\n",
       "   PostCode  Country           Phone             Fax  \n",
       "0     12209  Germany     030-0074321     030-0076545  \n",
       "1     05021   Mexico    (5) 555-4729    (5) 555-3745  \n",
       "2     05023   Mexico    (5) 555-3932            None  \n",
       "3   WA1 1DP       UK  (171) 555-7788  (171) 555-6750  \n",
       "4  S-958 22   Sweden   0921-12 34 65   0921-12 34 67  "
      ]
     },
     "execution_count": 37,
     "metadata": {},
     "output_type": "execute_result"
    }
   ],
   "source": [
    "df.head()"
   ]
  },
  {
   "cell_type": "code",
   "execution_count": null,
   "id": "a6290839",
   "metadata": {},
   "outputs": [
    {
     "data": {
      "text/plain": [
       "Index(['CustomerID', 'CompanyName', 'ContactName', 'ContactTitle', 'Address',\n",
       "       'City', 'Region', 'PostCode', 'Country', 'Phone', 'Fax'],\n",
       "      dtype='object')"
      ]
     },
     "execution_count": 44,
     "metadata": {},
     "output_type": "execute_result"
    }
   ],
   "source": [
    "# (4) Seleccionar todo de la tabla \"customers\" donde \"city\" sea \"London\" o \"Seattle\". \n",
    "# Almacenar los resultados en una variable.\n",
    "\n",
    "df.columns "
   ]
  }
 ],
 "metadata": {
  "kernelspec": {
   "display_name": "Python 3",
   "language": "python",
   "name": "python3"
  },
  "language_info": {
   "codemirror_mode": {
    "name": "ipython",
    "version": 3
   },
   "file_extension": ".py",
   "mimetype": "text/x-python",
   "name": "python",
   "nbconvert_exporter": "python",
   "pygments_lexer": "ipython3",
   "version": "3.13.3"
  }
 },
 "nbformat": 4,
 "nbformat_minor": 5
}
