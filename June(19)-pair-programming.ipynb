{
 "cells": [
  {
   "cell_type": "markdown",
   "id": "b70b3c7e",
   "metadata": {},
   "source": [
    "Extracción de Datos a Nivel Nacional:\n",
    "\n",
    "\n",
    "Extraer datos de generación de energía renovable y no renovable a nivel nacional desde el 1 de enero de 2011 hasta el 31 de diciembre de 2022. La información debe ser recopilada a nivel mensual.\n",
    "\n",
    "\n",
    "Transformar los datos para incluir una columna nueva que identifique si la energía es renovable o no renovable.\n",
    "\n",
    "\n",
    "Almacenar los datos en un DataFrame con la siguiente estructura: tipo_energia, tipo_generacion, fecha y valor.\n",
    "\n",
    "\n",
    "https://www.ree.es/es/datos/apidatos\n",
    "\n"
   ]
  },
  {
   "cell_type": "code",
   "execution_count": null,
   "id": "fdd48b72",
   "metadata": {},
   "outputs": [],
   "source": [
    "pip install requests"
   ]
  },
  {
   "cell_type": "code",
   "execution_count": null,
   "id": "b1cdac24",
   "metadata": {},
   "outputs": [],
   "source": [
    "import requests"
   ]
  },
  {
   "cell_type": "code",
   "execution_count": null,
   "id": "f5002dcc",
   "metadata": {},
   "outputs": [],
   "source": [
    "import pandas as pd"
   ]
  },
  {
   "cell_type": "code",
   "execution_count": null,
   "id": "a7d6d71c",
   "metadata": {},
   "outputs": [],
   "source": [
    "url = \"https://apidatos.ree.es/es/datos/generacion/estructura-generacion\""
   ]
  },
  {
   "cell_type": "code",
   "execution_count": null,
   "id": "26ace8af",
   "metadata": {},
   "outputs": [],
   "source": [
    "url = \"https://apidatos.ree.es/es/datos/generacion/estructura-generacion?start_date=2022-01-01T00:00&end_date=2022-12-31T23:59&time_trunc=month\""
   ]
  },
  {
   "cell_type": "code",
   "execution_count": null,
   "id": "66f0ffee",
   "metadata": {},
   "outputs": [],
   "source": [
    "datos = requests.get(url)"
   ]
  },
  {
   "cell_type": "code",
   "execution_count": null,
   "id": "6c56a5a6",
   "metadata": {},
   "outputs": [],
   "source": [
    "datos.status_code"
   ]
  },
  {
   "cell_type": "code",
   "execution_count": null,
   "id": "3d2ae470",
   "metadata": {},
   "outputs": [],
   "source": [
    "info = datos.json() "
   ]
  },
  {
   "cell_type": "code",
   "execution_count": null,
   "id": "1349df20",
   "metadata": {},
   "outputs": [],
   "source": [
    "print(type(datos.json()))"
   ]
  },
  {
   "cell_type": "code",
   "execution_count": null,
   "id": "dce0b869",
   "metadata": {},
   "outputs": [],
   "source": [
    "info.keys()"
   ]
  },
  {
   "cell_type": "code",
   "execution_count": null,
   "id": "5f045e63",
   "metadata": {},
   "outputs": [],
   "source": [
    "info.values()"
   ]
  },
  {
   "cell_type": "code",
   "execution_count": null,
   "id": "b65e97be",
   "metadata": {},
   "outputs": [],
   "source": [
    "info[\"data\"]"
   ]
  },
  {
   "cell_type": "code",
   "execution_count": null,
   "id": "218013a7",
   "metadata": {},
   "outputs": [],
   "source": [
    "info[\"included\"]"
   ]
  },
  {
   "cell_type": "code",
   "execution_count": null,
   "id": "c556d3e9",
   "metadata": {},
   "outputs": [],
   "source": [
    "info[\"included\"][0]"
   ]
  },
  {
   "cell_type": "code",
   "execution_count": null,
   "id": "5a09b1d8",
   "metadata": {},
   "outputs": [],
   "source": [
    "info[\"included\"][0][\"attributes\"]"
   ]
  },
  {
   "cell_type": "code",
   "execution_count": null,
   "id": "1567dad1",
   "metadata": {},
   "outputs": [],
   "source": [
    "# tipo_energia\n",
    "info[\"included\"][0][\"attributes\"][\"title\"]"
   ]
  },
  {
   "cell_type": "code",
   "execution_count": null,
   "id": "eaf2c485",
   "metadata": {},
   "outputs": [],
   "source": [
    "# tipo_generacion\n",
    "info[\"included\"][0][\"attributes\"][\"type\"]"
   ]
  },
  {
   "cell_type": "code",
   "execution_count": null,
   "id": "1c49de75",
   "metadata": {},
   "outputs": [],
   "source": [
    "# fecha\n",
    "info[\"included\"][0][\"attributes\"][\"values\"]\n",
    "hacer index para datetime"
   ]
  },
  {
   "cell_type": "code",
   "execution_count": null,
   "id": "c11ad1ee",
   "metadata": {},
   "outputs": [],
   "source": [
    "# valor\n",
    "info[\"included\"][0][\"attributes\"][\"values\"]"
   ]
  },
  {
   "cell_type": "code",
   "execution_count": null,
   "id": "030b4337",
   "metadata": {},
   "outputs": [],
   "source": [
    "#lista = []\n",
    "#lista[lista[dic[\"included\"][0][\"attributes\"][\"type\"]] == \"Renovable\"]"
   ]
  },
  {
   "cell_type": "markdown",
   "id": "1e8330c7",
   "metadata": {},
   "source": [
    "# Solución en clase:"
   ]
  },
  {
   "cell_type": "code",
   "execution_count": null,
   "id": "fc830a58",
   "metadata": {},
   "outputs": [],
   "source": [
    "import requests"
   ]
  },
  {
   "cell_type": "code",
   "execution_count": null,
   "id": "3e466666",
   "metadata": {},
   "outputs": [],
   "source": [
    "url = \"https://apidatos.ree.es/es/datos/generacion/estructura-generacion?start_date=2014-01-01T00:00&end_date=2014-12-31T23:59&time_trunc=month\""
   ]
  },
  {
   "cell_type": "code",
   "execution_count": null,
   "id": "df01b28c",
   "metadata": {},
   "outputs": [],
   "source": [
    "res = requests.get(url)"
   ]
  },
  {
   "cell_type": "code",
   "execution_count": null,
   "id": "edcb3869",
   "metadata": {},
   "outputs": [],
   "source": [
    "res.status_code"
   ]
  },
  {
   "cell_type": "code",
   "execution_count": null,
   "id": "5595bf3e",
   "metadata": {},
   "outputs": [],
   "source": [
    "datos = res.json()\n",
    "datos"
   ]
  },
  {
   "cell_type": "code",
   "execution_count": null,
   "id": "951d4df7",
   "metadata": {},
   "outputs": [],
   "source": [
    "type(datos)"
   ]
  },
  {
   "cell_type": "code",
   "execution_count": null,
   "id": "26bc6e5a",
   "metadata": {},
   "outputs": [],
   "source": [
    "datos.keys()"
   ]
  },
  {
   "cell_type": "code",
   "execution_count": null,
   "id": "400f628c",
   "metadata": {},
   "outputs": [],
   "source": [
    "datos[\"data\"]"
   ]
  },
  {
   "cell_type": "code",
   "execution_count": null,
   "id": "84712597",
   "metadata": {},
   "outputs": [],
   "source": [
    "datos[\"included\"]"
   ]
  },
  {
   "cell_type": "code",
   "execution_count": null,
   "id": "4e538e1a",
   "metadata": {},
   "outputs": [],
   "source": [
    "type(datos[\"included\"])"
   ]
  },
  {
   "cell_type": "code",
   "execution_count": null,
   "id": "490b9e54",
   "metadata": {},
   "outputs": [],
   "source": [
    "datos[\"included\"][0]"
   ]
  },
  {
   "cell_type": "code",
   "execution_count": null,
   "id": "dbe11ac3",
   "metadata": {},
   "outputs": [],
   "source": [
    "# probar \n",
    "datos[\"included\"][1]\n",
    "#datos[\"included\"][2]\n",
    "#datos[\"included\"][3]\n",
    "#datos[\"included\"][4]\n",
    "#datos[\"included\"][5]"
   ]
  },
  {
   "cell_type": "code",
   "execution_count": null,
   "id": "21a4d798",
   "metadata": {},
   "outputs": [],
   "source": [
    "for elemento in datos [\"included\"]:\n",
    "    print(elemento)\n",
    "    break"
   ]
  },
  {
   "cell_type": "code",
   "execution_count": null,
   "id": "bbdb245e",
   "metadata": {},
   "outputs": [],
   "source": [
    "datos [\"included\"][0]"
   ]
  },
  {
   "cell_type": "code",
   "execution_count": null,
   "id": "befc5305",
   "metadata": {},
   "outputs": [],
   "source": [
    "datos [\"included\"][0].keys()"
   ]
  },
  {
   "cell_type": "code",
   "execution_count": null,
   "id": "594073f3",
   "metadata": {},
   "outputs": [],
   "source": [
    "datos [\"included\"][0][\"attributes\"]"
   ]
  },
  {
   "cell_type": "code",
   "execution_count": null,
   "id": "db434bd5",
   "metadata": {},
   "outputs": [],
   "source": [
    "datos [\"included\"][0][\"attributes\"].keys()"
   ]
  },
  {
   "cell_type": "code",
   "execution_count": null,
   "id": "e716ba40",
   "metadata": {},
   "outputs": [],
   "source": [
    "datos [\"included\"][0][\"attributes\"][\"values\"]"
   ]
  },
  {
   "cell_type": "code",
   "execution_count": null,
   "id": "f2a79ecd",
   "metadata": {},
   "outputs": [],
   "source": [
    "datos [\"included\"][0][\"attributes\"][\"values\"][4]"
   ]
  },
  {
   "cell_type": "code",
   "execution_count": null,
   "id": "543eae3c",
   "metadata": {},
   "outputs": [],
   "source": [
    "# datos [\"included\"][0][\"attributes\"][\"values\"][4] # Hidraulica\n",
    "# datos [\"included\"][1][\"attributes\"][\"values\"][4] # Nuclear"
   ]
  },
  {
   "cell_type": "code",
   "execution_count": null,
   "id": "eba9ae98",
   "metadata": {},
   "outputs": [],
   "source": [
    "datos [\"included\"][1][\"attributes\"][\"values\"][1][\"datetime\"]"
   ]
  },
  {
   "cell_type": "code",
   "execution_count": null,
   "id": "b9694d41",
   "metadata": {},
   "outputs": [],
   "source": [
    "# datos [\"included\"][1] for [\"attributes\"][\"values\"][1][\"datetime\"]"
   ]
  },
  {
   "cell_type": "code",
   "execution_count": null,
   "id": "d73f2992",
   "metadata": {},
   "outputs": [],
   "source": [
    "for elemento in datos[\"included\"]:\n",
    "    print(elemento)\n",
    " "
   ]
  },
  {
   "cell_type": "code",
   "execution_count": null,
   "id": "5fbf8a4b",
   "metadata": {},
   "outputs": [],
   "source": [
    "for elemento in datos[\"included\"]:   \n",
    "\n",
    "        for dato in elemento[\"attributes\"][\"values\"]:  \n",
    "            print(elemento[\"attributes\"][\"title\"])\n",
    "            print(elemento[\"attributes\"][\"type\"])\n",
    "            print(dato[\"value\"])\n",
    "            print(dato[\"datetime\"])\n",
    "            print(\"---------------------------------\")"
   ]
  },
  {
   "cell_type": "code",
   "execution_count": null,
   "id": "a66edb26",
   "metadata": {},
   "outputs": [],
   "source": [
    "diccionario_anio = {\"tipo\": [], \"titulo\": [], \"fecha\": [], \"valor\": []}\n",
    "\n",
    "for elemento in datos[\"included\"]:  \n",
    "\n",
    "     for dato in elemento[\"attributes\"][\"values\"]:  \n",
    "        diccionario_anio = [\"titulo\"].append(elemento[\"attributes\"][\"title\"])\n",
    "        diccionario_anio = [\"tipo\"]\n",
    "        diccionario_anio = [\"fecha\"]\n",
    "        diccionario_anio = [\"valor\"]\n"
   ]
  },
  {
   "cell_type": "code",
   "execution_count": null,
   "id": "cd32b099",
   "metadata": {},
   "outputs": [],
   "source": [
    "import pandas as pd"
   ]
  },
  {
   "cell_type": "code",
   "execution_count": null,
   "id": "171db327",
   "metadata": {},
   "outputs": [],
   "source": [
    "pd.DataFrame(diccionario_anio)"
   ]
  },
  {
   "cell_type": "markdown",
   "id": "20642cf8",
   "metadata": {},
   "source": [
    "# 2011 a 2021"
   ]
  },
  {
   "cell_type": "code",
   "execution_count": null,
   "id": "5276572e",
   "metadata": {},
   "outputs": [],
   "source": [
    "import requests"
   ]
  },
  {
   "cell_type": "code",
   "execution_count": null,
   "id": "1ecf8fea",
   "metadata": {},
   "outputs": [],
   "source": [
    "import pandas as pd"
   ]
  },
  {
   "cell_type": "code",
   "execution_count": null,
   "id": "d52b095c",
   "metadata": {},
   "outputs": [],
   "source": []
  },
  {
   "cell_type": "code",
   "execution_count": null,
   "id": "5ca37994",
   "metadata": {},
   "outputs": [],
   "source": [
    "diccionario_anio = {\"tipo\":[], \"titulo\":[], \"fecha\":[], \"valor\":[]}\n",
    "\n",
    "for a in range(2011, 2021):\n",
    "    url = f\"https://apidatos.ree.es/es/datos/generacion/estructura-generacion?start_date={a}-01-01T00:00&end_date={a}-12-31T23:59&time_trunc=month\"\n",
    "    res = requests.get(url)\n",
    "    print(url)\n",
    "    datos = res.json()\n",
    "\n",
    "\n",
    "for elemento in datos[\"included\"]:\n",
    "    print(\"Elemento:\",elemento)\n",
    "    for dato in elemento[\"attributes\"][\"values\"]:\n",
    "        print(\"Dato:\",dato)\n",
    "        diccionario_anio[\"tipo\"].append(elemento[\"attributes\"][\"type\"])\n",
    "        diccionario_anio[\"titulo\"].append(elemento[\"attributes\"][\"title\"])\n",
    "        diccionario_anio[\"fecha\"].append(dato[\"datetime\"])\n",
    "        diccionario_anio[\"valor\"].append(dato[\"value\"])"
   ]
  },
  {
   "cell_type": "code",
   "execution_count": null,
   "id": "e372bf33",
   "metadata": {},
   "outputs": [],
   "source": [
    "print(diccionario_anio)"
   ]
  },
  {
   "cell_type": "code",
   "execution_count": null,
   "id": "f9692615",
   "metadata": {},
   "outputs": [],
   "source": [
    "pd.DataFrame(diccionario_anio)"
   ]
  }
 ],
 "metadata": {
  "kernelspec": {
   "display_name": "Python 3",
   "language": "python",
   "name": "python3"
  },
  "language_info": {
   "codemirror_mode": {
    "name": "ipython",
    "version": 3
   },
   "file_extension": ".py",
   "mimetype": "text/x-python",
   "name": "python",
   "nbconvert_exporter": "python",
   "pygments_lexer": "ipython3",
   "version": "3.13.3"
  }
 },
 "nbformat": 4,
 "nbformat_minor": 5
}
